{
 "cells": [
  {
   "cell_type": "code",
   "execution_count": null,
   "metadata": {},
   "outputs": [],
   "source": []
  },
  {
   "cell_type": "code",
   "execution_count": null,
   "metadata": {},
   "outputs": [],
   "source": [
    "name = input(\"이름이 뭐예요? \")\n",
    "math = input(\"수학 점수가 어떻게 되나요? \")\n",
    "eng = input(\"영어 점수가 어떻게 되나요? \")\n",
    "kor = input(\"국어 점수가 어떻게 되나요? \")\n",
    "avg = (int(math)+int(eng)+int(kor))/3\n",
    "\n",
    "print (\"이름 : %s\\n수학 : %d\\n영어 : %d\\n국어 : %d\\n평균점수 : %s\" % (name, math, eng, kor, avg))"
   ]
  },
  {
   "cell_type": "markdown",
   "metadata": {},
   "source": [
    "#### "
   ]
  }
 ],
 "metadata": {
  "kernelspec": {
   "display_name": "Python 3",
   "language": "python",
   "name": "python3"
  },
  "language_info": {
   "codemirror_mode": {
    "name": "ipython",
    "version": 3
   },
   "file_extension": ".py",
   "mimetype": "text/x-python",
   "name": "python",
   "nbconvert_exporter": "python",
   "pygments_lexer": "ipython3",
   "version": "3.7.1"
  }
 },
 "nbformat": 4,
 "nbformat_minor": 2
}
