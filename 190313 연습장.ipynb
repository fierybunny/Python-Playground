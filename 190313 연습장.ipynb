{
 "cells": [
  {
   "cell_type": "code",
   "execution_count": 3,
   "metadata": {},
   "outputs": [
    {
     "name": "stdout",
     "output_type": "stream",
     "text": [
      "이름이 뭐예요? s\n",
      "수학 점수가 어떻게 되나요? s\n",
      "영어 점수가 어떻게 되나요? s\n",
      "국어 점수가 어떻게 되나요? s\n",
      "이름 : s\n",
      "수학 : s\n",
      "영어 : s\n",
      "국어 : s\n"
     ]
    }
   ],
   "source": [
    "print(\"이름 : %s\\n수학 : %s\\n영어 : %s\\n국어 : %s\" \n",
    "          % (input(\"이름이 뭐예요? \"), input(\"수학 점수가 어떻게 되나요? \"), input(\"영어 점수가 어떻게 되나요? \"), input(\"국어 점수가 어떻게 되나요? \")))"
   ]
  },
  {
   "cell_type": "code",
   "execution_count": 7,
   "metadata": {},
   "outputs": [
    {
     "name": "stdout",
     "output_type": "stream",
     "text": [
      "당신의 성적을 입력하세요. 6\n",
      "가\n"
     ]
    }
   ],
   "source": [
    "score = int(input(\"당신의 성적을 입력하세요. \"))\n",
    "\n",
    "if score >= 90 : \n",
    "    print(\"수\")\n",
    "elif score >= 80 : \n",
    "    print(\"우\")\n",
    "elif score >= 70 : \n",
    "    print(\"미\")\n",
    "elif score >= 60 : \n",
    "    print(\"양\")\n",
    "else : \n",
    "    print(\"가\")"
   ]
  },
  {
   "cell_type": "code",
   "execution_count": 8,
   "metadata": {},
   "outputs": [
    {
     "name": "stdout",
     "output_type": "stream",
     "text": [
      "아무 자연수나 입력하세요. 89\n",
      "odd\n"
     ]
    }
   ],
   "source": [
    "num = int(input(\"아무 자연수나 입력하세요. \"))\n",
    "\n",
    "if num%2 == 0 : \n",
    "    print(\"even\")\n",
    "else : \n",
    "    print(\"odd\")"
   ]
  },
  {
   "cell_type": "code",
   "execution_count": 16,
   "metadata": {},
   "outputs": [
    {
     "name": "stdout",
     "output_type": "stream",
     "text": [
      "True\n",
      "False\n",
      "True\n",
      "True\n",
      "True\n",
      "True\n"
     ]
    }
   ],
   "source": [
    "a = (1, 2, 3)\n",
    "b = (1, 2, 3)\n",
    "print (a == b)\n",
    "print (a is b)\n",
    "\n",
    "x = (1, 2, 3)\n",
    "y = x\n",
    "print (x == y)\n",
    "print (x is y)\n",
    "\n",
    "x = 3\n",
    "y = 3\n",
    "print (x == y)\n",
    "print (x is y)"
   ]
  },
  {
   "cell_type": "code",
   "execution_count": 21,
   "metadata": {},
   "outputs": [
    {
     "name": "stdout",
     "output_type": "stream",
     "text": [
      "아무 자연수나 입력하세요. 3\n",
      "6\n"
     ]
    }
   ],
   "source": [
    "num = int(input(\"아무 자연수나 입력하세요. \"))\n",
    "\n",
    "sum = 0\n",
    "i = 0\n",
    "\n",
    "while i <= num:\n",
    "    sum += i\n",
    "    i += 1\n",
    "\n",
    "print (sum)"
   ]
  },
  {
   "cell_type": "code",
   "execution_count": 30,
   "metadata": {},
   "outputs": [
    {
     "name": "stdout",
     "output_type": "stream",
     "text": [
      "당신의 성적을 입력하세요. abc\n"
     ]
    },
    {
     "ename": "ValueError",
     "evalue": "invalid literal for int() with base 10: 'abc'",
     "output_type": "error",
     "traceback": [
      "\u001b[0;31m---------------------------------------------------------------------------\u001b[0m",
      "\u001b[0;31mValueError\u001b[0m                                Traceback (most recent call last)",
      "\u001b[0;32m<ipython-input-30-e014dd19eb55>\u001b[0m in \u001b[0;36m<module>\u001b[0;34m\u001b[0m\n\u001b[1;32m      2\u001b[0m \u001b[0;34m\u001b[0m\u001b[0m\n\u001b[1;32m      3\u001b[0m \u001b[0;32mwhile\u001b[0m \u001b[0mraw\u001b[0m \u001b[0;34m!=\u001b[0m \u001b[0;34m\"q\"\u001b[0m \u001b[0;34m:\u001b[0m\u001b[0;34m\u001b[0m\u001b[0;34m\u001b[0m\u001b[0m\n\u001b[0;32m----> 4\u001b[0;31m     \u001b[0mscore\u001b[0m \u001b[0;34m=\u001b[0m \u001b[0mint\u001b[0m\u001b[0;34m(\u001b[0m\u001b[0mraw\u001b[0m\u001b[0;34m)\u001b[0m\u001b[0;34m\u001b[0m\u001b[0;34m\u001b[0m\u001b[0m\n\u001b[0m\u001b[1;32m      5\u001b[0m \u001b[0;34m\u001b[0m\u001b[0m\n\u001b[1;32m      6\u001b[0m     \u001b[0;32mif\u001b[0m \u001b[0mscore\u001b[0m \u001b[0;34m>=\u001b[0m \u001b[0;36m90\u001b[0m \u001b[0;34m:\u001b[0m\u001b[0;34m\u001b[0m\u001b[0;34m\u001b[0m\u001b[0m\n",
      "\u001b[0;31mValueError\u001b[0m: invalid literal for int() with base 10: 'abc'"
     ]
    }
   ],
   "source": [
    "raw = input(\"당신의 성적을 입력하세요. \")\n",
    "\n",
    "while raw != \"q\" :\n",
    "    score = int(raw)\n",
    "    \n",
    "    if score >= 90 : \n",
    "        print(\"수\")\n",
    "    elif score >= 80 : \n",
    "        print(\"우\")\n",
    "    elif score >= 70 : \n",
    "        print(\"미\")\n",
    "    elif score >= 60 : \n",
    "        print(\"양\")\n",
    "    else : \n",
    "        print(\"가\")"
   ]
  },
  {
   "cell_type": "code",
   "execution_count": null,
   "metadata": {},
   "outputs": [],
   "source": []
  },
  {
   "cell_type": "code",
   "execution_count": 61,
   "metadata": {},
   "outputs": [
    {
     "name": "stdout",
     "output_type": "stream",
     "text": [
      "숫자를 입력하세요. 종료하시려면 엔터 키를 눌러주세요. \n"
     ]
    }
   ],
   "source": [
    "\"\"\"\n",
    "import math\n",
    "while True:\n",
    "    raw = input(\"숫자를 입력하세요.\")\n",
    "    if raw.isdigit():\n",
    "        raw = int(raw)\n",
    "        isPrime = 0\n",
    "        for i in range(int(math.sqrt(raw))-1):\n",
    "            if raw % (i+2) == 0:\n",
    "                isPrime += 1\n",
    "        \n",
    "        if isPrime : print(\"합성수임ㅎㅎ\")\n",
    "        else : print(\"소수임ㅋㅋ\")\n",
    "        \n",
    "        if input(\"끝내시겠습니까? (y/n) \") == y :\n",
    "            break\n",
    "        else : continue\n",
    "            \n",
    "    else : \n",
    "        print(\"숫자를 입력하세요! 아니면 끝내시겠습니까? (y/n) \")     \n",
    "\"\"\"\n",
    "\n",
    "import math\n",
    "while True:\n",
    "    raw = input(\"숫자를 입력하세요. 종료하시려면 엔터 키를 눌러주세요. \")\n",
    "    if raw == \"\":\n",
    "        break\n",
    "    elif raw.isdigit():\n",
    "        raw = int(raw)\n",
    "        \n",
    "        if raw == 1: \n",
    "            print (\"1은 소수도 합성수도 아닙니다.\")\n",
    "            break\n",
    "        else:\n",
    "            for i in range(2, raw+1):\n",
    "                if raw % i == 0:\n",
    "                    break\n",
    "            if i == raw:\n",
    "                print(\"소수임ㅋㅋ\")\n",
    "            else :\n",
    "                print(\"합성수임ㅎㅎ\")\n",
    "        \n",
    "    else : \n",
    "        print(\"숫자를 입력하세요!\")     \n"
   ]
  },
  {
   "cell_type": "code",
   "execution_count": null,
   "metadata": {},
   "outputs": [],
   "source": [
    "while True:\n",
    "    raw = input(\"숫자를 입력하세요. 종료하시려면 엔터 키를 눌러주세요. \")\n",
    "    if raw == \"\":\n",
    "        break\n",
    "    elif raw.isdigit():\n",
    "        raw = int(raw)\n",
    "        \n",
    "        if raw == 1: \n",
    "            print (\"1은 소수도 합성수도 아닙니다.\")\n",
    "            break\n",
    "        else:\n",
    "            for i in range(2, raw+1):\n",
    "                if raw % i == 0:\n",
    "                    break\n",
    "            if i == raw:\n",
    "                print(\"소수임ㅋㅋ\")\n",
    "            else :\n",
    "                print(\"합성수임ㅎㅎ\")\n",
    "        \n",
    "    else : \n",
    "        print(\"숫자를 입력하세요!\")     \n"
   ]
  },
  {
   "cell_type": "code",
   "execution_count": null,
   "metadata": {},
   "outputs": [],
   "source": []
  }
 ],
 "metadata": {
  "kernelspec": {
   "display_name": "Python 3",
   "language": "python",
   "name": "python3"
  },
  "language_info": {
   "codemirror_mode": {
    "name": "ipython",
    "version": 3
   },
   "file_extension": ".py",
   "mimetype": "text/x-python",
   "name": "python",
   "nbconvert_exporter": "python",
   "pygments_lexer": "ipython3",
   "version": "3.7.1"
  }
 },
 "nbformat": 4,
 "nbformat_minor": 2
}
