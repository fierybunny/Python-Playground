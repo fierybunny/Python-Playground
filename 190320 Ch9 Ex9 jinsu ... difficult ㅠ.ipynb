{
 "cells": [
  {
   "cell_type": "code",
   "execution_count": 1,
   "metadata": {},
   "outputs": [
    {
     "ename": "SyntaxError",
     "evalue": "invalid syntax (<ipython-input-1-a7515a1e67e1>, line 1)",
     "output_type": "error",
     "traceback": [
      "\u001b[0;36m  File \u001b[0;32m\"<ipython-input-1-a7515a1e67e1>\"\u001b[0;36m, line \u001b[0;32m1\u001b[0m\n\u001b[0;31m    while ( )\u001b[0m\n\u001b[0m              ^\u001b[0m\n\u001b[0;31mSyntaxError\u001b[0m\u001b[0;31m:\u001b[0m invalid syntax\n"
     ]
    }
   ],
   "source": [
    "while ( ) \n",
    " num = input(\"Enter a number : \")\n",
    "    if num.isdigit() and int(num) > 0 :\n",
    "        num = int(num)\n",
    "        rad = input(\"Enter a radix : \")\n",
    "        if rad.isdigit() and int(rad) > 0 :\n",
    "            a = num\n",
    "            while (a > rad)\n",
    "                \n",
    "\n",
    "    else : print(\"Wrong input!\")"
   ]
  },
  {
   "cell_type": "code",
   "execution_count": null,
   "metadata": {},
   "outputs": [],
   "source": [
    "#정답\n",
    "\n",
    "num = int(raw_input(\"숫자를 입력하세요. \"))\n",
    "radix = int(raw_input(\"진수를 입력하세요. \" ))\n",
    "number = num\n",
    "result = \"\"\n",
    "while not num is 0: # while number != 0:  # while number:\n",
    "    remainder = str(num%radix)\n",
    "    num = num/radix\n",
    "    if remainder == '10':\n",
    "        remainder = 'A'\n",
    "    elif remainder == '11':\n",
    "        remainder = 'B'\n",
    "    elif remainder == '12':\n",
    "        remainder = 'C'\n",
    "    elif remainder == '13':\n",
    "        remainder = 'D'\n",
    "    elif remainder == '14':\n",
    "        remainder = 'E'\n",
    "    elif remainder == '15':\n",
    "        remainder = 'F'\n",
    "    elif remainder == '16':\n",
    "        remainder = 'G'\n",
    "    result = str(remainder) + result\n",
    "\n",
    "print \"%d in Base 10 is %s in base %d \" % (number, result, radix)"
   ]
  }
 ],
 "metadata": {
  "kernelspec": {
   "display_name": "Python 3",
   "language": "python",
   "name": "python3"
  },
  "language_info": {
   "codemirror_mode": {
    "name": "ipython",
    "version": 3
   },
   "file_extension": ".py",
   "mimetype": "text/x-python",
   "name": "python",
   "nbconvert_exporter": "python",
   "pygments_lexer": "ipython3",
   "version": "3.7.1"
  }
 },
 "nbformat": 4,
 "nbformat_minor": 2
}
