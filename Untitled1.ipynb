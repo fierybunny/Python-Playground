{
 "cells": [
  {
   "cell_type": "code",
   "execution_count": 4,
   "metadata": {},
   "outputs": [
    {
     "ename": "ModuleNotFoundError",
     "evalue": "No module named 'cs1robots'",
     "output_type": "error",
     "traceback": [
      "\u001b[0;31m---------------------------------------------------------------------------\u001b[0m",
      "\u001b[0;31mModuleNotFoundError\u001b[0m                       Traceback (most recent call last)",
      "\u001b[0;32m<ipython-input-4-15ff5346a048>\u001b[0m in \u001b[0;36m<module>\u001b[0;34m\u001b[0m\n\u001b[0;32m----> 1\u001b[0;31m \u001b[0;32mfrom\u001b[0m \u001b[0mcs1robots\u001b[0m \u001b[0;32mimport\u001b[0m \u001b[0;34m*\u001b[0m\u001b[0;34m\u001b[0m\u001b[0;34m\u001b[0m\u001b[0m\n\u001b[0m\u001b[1;32m      2\u001b[0m \u001b[0;31m#create_world()\u001b[0m\u001b[0;34m\u001b[0m\u001b[0;34m\u001b[0m\u001b[0;34m\u001b[0m\u001b[0m\n\u001b[1;32m      3\u001b[0m \u001b[0mload_world\u001b[0m\u001b[0;34m(\u001b[0m\u001b[0;34m\"../worlds/harvest2.wld\"\u001b[0m\u001b[0;34m)\u001b[0m\u001b[0;34m\u001b[0m\u001b[0;34m\u001b[0m\u001b[0m\n\u001b[1;32m      4\u001b[0m \u001b[0;34m\u001b[0m\u001b[0m\n\u001b[1;32m      5\u001b[0m \u001b[0mhubo\u001b[0m \u001b[0;34m=\u001b[0m \u001b[0mRobot\u001b[0m\u001b[0;34m(\u001b[0m\u001b[0morientation\u001b[0m \u001b[0;34m=\u001b[0m \u001b[0;34m\"N\"\u001b[0m\u001b[0;34m)\u001b[0m\u001b[0;34m\u001b[0m\u001b[0;34m\u001b[0m\u001b[0m\n",
      "\u001b[0;31mModuleNotFoundError\u001b[0m: No module named 'cs1robots'"
     ]
    }
   ],
   "source": [
    "from cs1robots import *\n",
    "#create_world()\n",
    "load_world(\"../worlds/harvest2.wld\")\n",
    "\n",
    "hubo = Robot(orientation = \"N\")\n",
    "hubo.set_trace(\"blue\")\n",
    "hubo.set_pause(0.1)\n",
    "\n",
    "def move_and_pick():\n",
    "  if hubo.on_beeper():\n",
    "    hubo.pick_beeper()\n",
    "  hubo.move()\n",
    "\n",
    "def turn_right():\n",
    "  for i in range(3):\n",
    "    hubo.turn_left()\n",
    "\n",
    "def move_9():\n",
    "  for i in range(11):\n",
    "    move_and_pick()\n",
    "\n",
    "def zigzag():\n",
    "  move_9()\n",
    "  turn_right()\n",
    "  hubo.move()\n",
    "  turn_right()\n",
    "  move_9()\n",
    "\n",
    "def zig():\n",
    "  zigzag()\n",
    "  hubo.turn_left()\n",
    "  hubo.move()\n",
    "  hubo.turn_left()\n",
    "\n",
    "zig()\n",
    "zig()\n",
    "zig()\n",
    "zig()\n",
    "zig()\n"
   ]
  },
  {
   "cell_type": "code",
   "execution_count": null,
   "metadata": {},
   "outputs": [],
   "source": []
  }
 ],
 "metadata": {
  "kernelspec": {
   "display_name": "Python 3",
   "language": "python",
   "name": "python3"
  },
  "language_info": {
   "codemirror_mode": {
    "name": "ipython",
    "version": 3
   },
   "file_extension": ".py",
   "mimetype": "text/x-python",
   "name": "python",
   "nbconvert_exporter": "python",
   "pygments_lexer": "ipython3",
   "version": "3.7.1"
  }
 },
 "nbformat": 4,
 "nbformat_minor": 2
}
