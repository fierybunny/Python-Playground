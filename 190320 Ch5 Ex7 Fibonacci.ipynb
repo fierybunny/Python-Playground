{
 "cells": [
  {
   "cell_type": "code",
   "execution_count": 14,
   "metadata": {},
   "outputs": [
    {
     "name": "stdout",
     "output_type": "stream",
     "text": [
      "자연수를 입력하세요.43\n",
      "43보다 작은 피보나치 수열은 다음과 같습니다 : [0, 1, 1, 2, 3, 5, 8, 13, 21, 34]\n"
     ]
    }
   ],
   "source": [
    "num = input(\"자연수를 입력하세요.\")\n",
    "\n",
    "while num.isdigit() == 0 : \n",
    "    num = input(\"자연수를 입력해 주세요.\")\n",
    "\n",
    "num = int(num)\n",
    "list = [0]\n",
    "\n",
    "if num < 1 : \n",
    "    print(\"자연수가 아닙니다.\")\n",
    "elif num == 1 : \n",
    "    print(list)\n",
    "else: \n",
    "    list.append(1)\n",
    "    list.append(1)\n",
    "    while (list[-1] + list[-2]) < num : \n",
    "        new = list[-1] + list[-2]\n",
    "        list.append(new)\n",
    "    print(str(num) + \"보다 작은 피보나치 수열은 다음과 같습니다 : \" + str(list))"
   ]
  },
  {
   "cell_type": "code",
   "execution_count": null,
   "metadata": {},
   "outputs": [],
   "source": []
  },
  {
   "cell_type": "code",
   "execution_count": null,
   "metadata": {},
   "outputs": [],
   "source": []
  },
  {
   "cell_type": "code",
   "execution_count": null,
   "metadata": {},
   "outputs": [],
   "source": []
  }
 ],
 "metadata": {
  "kernelspec": {
   "display_name": "Python 3",
   "language": "python",
   "name": "python3"
  },
  "language_info": {
   "codemirror_mode": {
    "name": "ipython",
    "version": 3
   },
   "file_extension": ".py",
   "mimetype": "text/x-python",
   "name": "python",
   "nbconvert_exporter": "python",
   "pygments_lexer": "ipython3",
   "version": "3.7.1"
  }
 },
 "nbformat": 4,
 "nbformat_minor": 2
}
